{
 "cells": [
  {
   "cell_type": "code",
   "execution_count": 2,
   "metadata": {},
   "outputs": [],
   "source": [
    "from primer3plus import Design"
   ]
  },
  {
   "cell_type": "code",
   "execution_count": 4,
   "metadata": {},
   "outputs": [
    {
     "data": {
      "text/plain": [
       "({},\n",
       " {'PRIMER_WARNING': 'SEQUENCE_INCLUDED_REGION length < min PRIMER_PRODUCT_SIZE_RANGE',\n",
       "  'PRIMER_LEFT_EXPLAIN': 'considered 1, low tm 1, ok 0',\n",
       "  'PRIMER_RIGHT_EXPLAIN': 'considered 1, low tm 1, ok 0',\n",
       "  'PRIMER_PAIR_EXPLAIN': 'considered 0, ok 0',\n",
       "  'PRIMER_LEFT_NUM_RETURNED': 0,\n",
       "  'PRIMER_RIGHT_NUM_RETURNED': 0,\n",
       "  'PRIMER_INTERNAL_NUM_RETURNED': 0,\n",
       "  'PRIMER_PAIR_NUM_RETURNED': 0})"
      ]
     },
     "execution_count": 4,
     "metadata": {},
     "output_type": "execute_result"
    }
   ],
   "source": [
    "import primer3\n",
    "\n",
    "design = Design()\n",
    "design.presets.left_sequence('ATTAGTTATGTCACGCTTACATT')\n",
    "design.presets.right_sequence('ATTAGTTATGTCACGCTTACATT')\n",
    "design.PRIMER_MASK_KMERLIST_PATH = 'asdfasdfadsfa'\n",
    "design.PRIMER_TASK = 'check_primers'\n",
    "design.run()"
   ]
  },
  {
   "cell_type": "code",
   "execution_count": 3,
   "metadata": {},
   "outputs": [],
   "source": [
    "design.PRIMER_TASK = \"check_primers\""
   ]
  },
  {
   "cell_type": "code",
   "execution_count": 4,
   "metadata": {},
   "outputs": [],
   "source": [
    "import primer3"
   ]
  },
  {
   "cell_type": "code",
   "execution_count": 9,
   "metadata": {},
   "outputs": [
    {
     "data": {
      "text/plain": [
       "ThermoResult(structure_found=True, tm=34.47, dg=256.92, dh=-31300.00, ds=-101.75)"
      ]
     },
     "execution_count": 9,
     "metadata": {},
     "output_type": "execute_result"
    }
   ],
   "source": [
    "primer3.calcHairpin('ATTAGTTATGTCACGCTTACATT')"
   ]
  },
  {
   "cell_type": "code",
   "execution_count": 10,
   "metadata": {},
   "outputs": [
    {
     "data": {
      "text/plain": [
       "<function primer3.bindings.calcHeterodimer(seq1, seq2, mv_conc=50, dv_conc=0, dntp_conc=0.8, dna_conc=50, temp_c=37, max_loop=30, output_structure=False)>"
      ]
     },
     "execution_count": 10,
     "metadata": {},
     "output_type": "execute_result"
    }
   ],
   "source": [
    "primer3.calcHeterodimer"
   ]
  },
  {
   "cell_type": "code",
   "execution_count": 11,
   "metadata": {},
   "outputs": [
    {
     "data": {
      "text/plain": [
       "ThermoResult(structure_found=True, tm=-0.45, dg=-1106.65, dh=-73600.00, ds=-233.74)"
      ]
     },
     "execution_count": 11,
     "metadata": {},
     "output_type": "execute_result"
    }
   ],
   "source": [
    "primer3.calcHomodimer('ATTAGTTATGTCACGCTTACATT')"
   ]
  },
  {
   "cell_type": "code",
   "execution_count": 56,
   "metadata": {},
   "outputs": [
    {
     "name": "stdout",
     "output_type": "stream",
     "text": [
      "Gradient used:  {'PRIMER_MAX_SIZE': (1, 27, 36), 'PRIMER_MIN_SIZE': (-1, 16, 27), 'PRIMER_MAX_TM': (1, 27, 80), 'PRIMER_MIN_TM': (-1, 48, 57.0), 'PRIMER_MAX_HAIRPIN_TH': (1, 47.0, 60)}\n",
      "Results:  {\n",
      " \"0\": {\n",
      "  \"PAIR\": {\n",
      "   \"PENALTY\": 7.892226720976964,\n",
      "   \"COMPL_ANY_TH\": 0.0,\n",
      "   \"COMPL_END_TH\": 0.0,\n",
      "   \"PRODUCT_SIZE\": 235\n",
      "  },\n",
      "  \"LEFT\": {\n",
      "   \"PENALTY\": 7.713186819997588,\n",
      "   \"SEQUENCE\": \"TCATGTAATTAGTTATGTCACGCT\",\n",
      "   \"location\": [\n",
      "    0,\n",
      "    24\n",
      "   ],\n",
      "   \"TM\": 56.28681318000241,\n",
      "   \"GC_PERCENT\": 33.333333333333336,\n",
      "   \"SELF_ANY_TH\": 0.0,\n",
      "   \"SELF_END_TH\": 0.0,\n",
      "   \"HAIRPIN_TH\": 0.0,\n",
      "   \"END_STABILITY\": 5.07\n",
      "  },\n",
      "  \"RIGHT\": {\n",
      "   \"PENALTY\": 0.17903990097937594,\n",
      "   \"SEQUENCE\": \"TTCGAGCGTCCCAAAACCTT\",\n",
      "   \"location\": [\n",
      "    234,\n",
      "    20\n",
      "   ],\n",
      "   \"TM\": 60.179039900979376,\n",
      "   \"GC_PERCENT\": 50.0,\n",
      "   \"SELF_ANY_TH\": 0.0,\n",
      "   \"SELF_END_TH\": 0.0,\n",
      "   \"HAIRPIN_TH\": 0.0,\n",
      "   \"END_STABILITY\": 3.5\n",
      "  }\n",
      " }\n",
      "}\n",
      "Explain:  {\n",
      " \"PRIMER_LEFT_EXPLAIN\": \"considered 45, low tm 43, ok 2\",\n",
      " \"PRIMER_RIGHT_EXPLAIN\": \"considered 618, GC content failed 1, low tm 250, high tm 99, ok 268\",\n",
      " \"PRIMER_PAIR_EXPLAIN\": \"considered 1, ok 1\",\n",
      " \"PRIMER_LEFT_NUM_RETURNED\": 1,\n",
      " \"PRIMER_RIGHT_NUM_RETURNED\": 1,\n",
      " \"PRIMER_INTERNAL_NUM_RETURNED\": 0,\n",
      " \"PRIMER_PAIR_NUM_RETURNED\": 1\n",
      "}\n"
     ]
    }
   ],
   "source": [
    "from primer3plus import Design\n",
    "import json\n",
    "\n",
    "def foo():\n",
    "    design = Design()\n",
    "    design.presets.template(\"TCATGTAATTAGTTATGTCACGCTTACATTCACGCCCTCCCCCCACATCCGCTCTAACCGAAAAGGAAGGAGTTAGACAACCTGAAGTCTAGGTCCCTATTTATTTTTTTATAGTTATGTTAGTATTAAGAACGTTATTTATATTTCAAATTTTTCTTTTTTTTCTGTACAGACGCGTGTACGCATGTAACATTATACTGAAAACCTTGCTTGAGAAGGTTTTGGGACGCTCGAAGGCTTTAATTTGC\")\n",
    "    design.presets.target((25, 150))\n",
    "    design.presets.primer_num_return(1)\n",
    "    res, explain = design.run_and_optimize(5)\n",
    "    print(\"Gradient used: \", design.DEFAULT_GRADIENT)\n",
    "    print(\"Results: \", json.dumps(res, indent=1))\n",
    "    print(\"Explain: \", json.dumps(explain, indent=1))\n",
    "\n",
    "foo()"
   ]
  },
  {
   "cell_type": "code",
   "execution_count": 50,
   "metadata": {},
   "outputs": [
    {
     "data": {
      "text/plain": [
       "{'PRIMER_MAX_SIZE': (1, 27, 36),\n",
       " 'PRIMER_MIN_SIZE': (-1, 16, 27),\n",
       " 'PRIMER_MAX_TM': (1, 27, 80),\n",
       " 'PRIMER_MIN_TM': (-1, 48, 57.0),\n",
       " 'PRIMER_MAX_HAIRPIN_TH': (1, 47.0, 60)}"
      ]
     },
     "execution_count": 50,
     "metadata": {},
     "output_type": "execute_result"
    }
   ],
   "source": [
    "design.DEFAULT_GRADIENT"
   ]
  },
  {
   "cell_type": "code",
   "execution_count": 41,
   "metadata": {},
   "outputs": [
    {
     "name": "stdout",
     "output_type": "stream",
     "text": [
      "Object `boulderio.setdefault` not found.\n"
     ]
    }
   ],
   "source": [
    "import pandas as pd\n",
    "\n",
    "boulderio.setdefault?"
   ]
  },
  {
   "cell_type": "code",
   "execution_count": 36,
   "metadata": {},
   "outputs": [
    {
     "name": "stdout",
     "output_type": "stream",
     "text": [
      "<Parameter SEQUENCE_ID <class 'str'> value= default=>\n"
     ]
    }
   ],
   "source": [
    "print(design.get('SEQUENCE_ID'))"
   ]
  },
  {
   "cell_type": "code",
   "execution_count": 7,
   "metadata": {},
   "outputs": [],
   "source": [
    "s = design.presets.\n"
   ]
  },
  {
   "cell_type": "code",
   "execution_count": 8,
   "metadata": {},
   "outputs": [
    {
     "data": {
      "text/plain": [
       "<bound method DesignPresets.template of <primer3plus.design.DesignPresets object at 0x1099d3438>>"
      ]
     },
     "execution_count": 8,
     "metadata": {},
     "output_type": "execute_result"
    }
   ],
   "source": [
    "design.set."
   ]
  },
  {
   "cell_type": "code",
   "execution_count": 4,
   "metadata": {},
   "outputs": [],
   "source": [
    "import json\n",
    "\n",
    "design = Design()\n",
    "design.set.template('TCATGTAATTAGTTATGTCACGCTTACATTCACGCCCTCCCCCCACATCCGCTCTAACCGAAAAGGAAGGAGTTAGACAACCTGAAGTCTAGGTCCCTATTTATTTTTTTATAGTTATGTTAGTATTAAGAACGTTATTTATATTTCAAATTTTTCTTTTTTTTCTGTACAGACGCGTGTACGCATGTAACATTATACTGAAAACCTTGCTTGAGAAGGTTTTGGGACGCTCGAAGGCTTTAATTTGC')\n",
    "design.set.as_cloning_task()\n",
    "results, explain = design.run()"
   ]
  },
  {
   "cell_type": "code",
   "execution_count": 18,
   "metadata": {},
   "outputs": [
    {
     "data": {
      "text/plain": [
       "'pick_cloning_primers'"
      ]
     },
     "execution_count": 18,
     "metadata": {},
     "output_type": "execute_result"
    }
   ],
   "source": [
    "design.params['PRIMER_TASK']"
   ]
  },
  {
   "cell_type": "code",
   "execution_count": 56,
   "metadata": {},
   "outputs": [
    {
     "data": {
      "text/plain": [
       "({0: {'PAIR': {'PENALTY': 0.25916175123336416,\n",
       "    'COMPL_ANY_TH': 0.0,\n",
       "    'COMPL_END_TH': 3.13761936746954,\n",
       "    'PRODUCT_SIZE': 167},\n",
       "   'LEFT': {'PENALTY': 0.09472971894786042,\n",
       "    'SEQUENCE': 'GTCACGCTTACATTCACGCC',\n",
       "    'location': (16, 20),\n",
       "    'TM': 59.90527028105214,\n",
       "    'GC_PERCENT': 55.0,\n",
       "    'SELF_ANY_TH': 0.0,\n",
       "    'SELF_END_TH': 0.0,\n",
       "    'HAIRPIN_TH': 0.0,\n",
       "    'END_STABILITY': 5.68},\n",
       "   'RIGHT': {'PENALTY': 0.16443203228550374,\n",
       "    'SEQUENCE': 'CGTACACGCGTCTGTACAGA',\n",
       "    'location': (182, 20),\n",
       "    'TM': 59.835567967714496,\n",
       "    'GC_PERCENT': 55.0,\n",
       "    'SELF_ANY_TH': 28.519193026770097,\n",
       "    'SELF_END_TH': 21.73724210298616,\n",
       "    'HAIRPIN_TH': 44.67540604717584,\n",
       "    'END_STABILITY': 3.41}}},\n",
       " {'PRIMER_LEFT_EXPLAIN': 'considered 222, low tm 110, high tm 47, long poly-x seq 7, ok 58',\n",
       "  'PRIMER_RIGHT_EXPLAIN': 'considered 687, GC content failed 3, low tm 252, high tm 165, high hairpin stability 2, long poly-x seq 9, ok 256',\n",
       "  'PRIMER_PAIR_EXPLAIN': 'considered 1, ok 1',\n",
       "  'PRIMER_LEFT_NUM_RETURNED': 1,\n",
       "  'PRIMER_RIGHT_NUM_RETURNED': 1,\n",
       "  'PRIMER_INTERNAL_NUM_RETURNED': 0,\n",
       "  'PRIMER_PAIR_NUM_RETURNED': 1})"
      ]
     },
     "execution_count": 56,
     "metadata": {},
     "output_type": "execute_result"
    }
   ],
   "source": [
    "design.set.target([(50, 100)])\n",
    "design.set.as_generic_task()\n",
    "design.run()"
   ]
  },
  {
   "cell_type": "code",
   "execution_count": 57,
   "metadata": {},
   "outputs": [
    {
     "data": {
      "text/plain": [
       "\u001b[0;31mSignature:\u001b[0m \u001b[0mdesign\u001b[0m\u001b[0;34m.\u001b[0m\u001b[0mset\u001b[0m\u001b[0;34m.\u001b[0m\u001b[0mtarget\u001b[0m\u001b[0;34m(\u001b[0m\u001b[0minterval\u001b[0m\u001b[0;34m:\u001b[0m \u001b[0mtuple\u001b[0m\u001b[0;34m)\u001b[0m\u001b[0;34m\u001b[0m\u001b[0;34m\u001b[0m\u001b[0m\n",
       "\u001b[0;31mDocstring:\u001b[0m\n",
       "If one or more targets is specified then a legal primer pair must flank at least one of them. A target might\n",
       "be a simple sequence repeat site (for example a CA repeat) or a single-base-pair polymorphism, or an exon for\n",
       "resequencing. The value should be a space-separated list of\n",
       "\n",
       "<start>,<length>\n",
       "pairs where <start> is the index of the first base of a target, and <length> is its length.\n",
       "\n",
       "See also PRIMER_INSIDE_PENALTY, PRIMER_OUTSIDE_PENALTY. Has a different meaning when\n",
       "PRIMER_TASK=pick_sequencing_primers. See PRIMER_TASK for more information.\n",
       "\n",
       ":param interval:\n",
       ":type interval:\n",
       ":return:\n",
       ":rtype:\n",
       "\u001b[0;31mFile:\u001b[0m      ~/Documents/GitHub/primer3-py-plus/primer3plus/design/__init__.py\n",
       "\u001b[0;31mType:\u001b[0m      method\n"
      ]
     },
     "metadata": {},
     "output_type": "display_data"
    }
   ],
   "source": [
    "design.set.target?"
   ]
  },
  {
   "cell_type": "code",
   "execution_count": null,
   "metadata": {},
   "outputs": [],
   "source": []
  }
 ],
 "metadata": {
  "kernelspec": {
   "display_name": "Python 3",
   "language": "python",
   "name": "python3"
  },
  "language_info": {
   "codemirror_mode": {
    "name": "ipython",
    "version": 3
   },
   "file_extension": ".py",
   "mimetype": "text/x-python",
   "name": "python",
   "nbconvert_exporter": "python",
   "pygments_lexer": "ipython3",
   "version": "3.7.3"
  }
 },
 "nbformat": 4,
 "nbformat_minor": 2
}
