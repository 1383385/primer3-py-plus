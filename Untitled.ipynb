{
 "cells": [
  {
   "cell_type": "code",
   "execution_count": 1,
   "metadata": {},
   "outputs": [],
   "source": [
    "import primer3plus"
   ]
  },
  {
   "cell_type": "code",
   "execution_count": 2,
   "metadata": {},
   "outputs": [],
   "source": [
    "from primer3plus import Design"
   ]
  },
  {
   "cell_type": "code",
   "execution_count": 3,
   "metadata": {},
   "outputs": [],
   "source": [
    "design = Design()\n",
    "d"
   ]
  },
  {
   "cell_type": "code",
   "execution_count": 4,
   "metadata": {},
   "outputs": [
    {
     "data": {
      "text/plain": [
       "<primer3plus.design.DesignPresets at 0x10a99a438>"
      ]
     },
     "execution_count": 4,
     "metadata": {},
     "output_type": "execute_result"
    }
   ],
   "source": [
    "design.set.template('TCATGTAATTAGTTATGTCACGCTTACATTCACGCCCTCCCCCCACATCCGCTCTAACCGAAAAGGAAGGAGTTAGACAACCTGAAGTCTAGGTCCCTATTTATTTTTTTATAGTTATGTTAGTATTAAGAACGTTATTTATATTTCAAATTTTTCTTTTTTTTCTGTACAGACGCGTGTACGCATGTAACATTATACTGAAAACCTTGCTTGAGAAGGTTTTGGGACGCTCGAAGGCTTTAATTTGC')"
   ]
  },
  {
   "cell_type": "code",
   "execution_count": 50,
   "metadata": {},
   "outputs": [
    {
     "name": "stdout",
     "output_type": "stream",
     "text": [
      "{\n",
      " \"0\": {\n",
      "  \"PAIR\": {\n",
      "   \"PENALTY\": 11.204301707622733,\n",
      "   \"COMPL_ANY_TH\": 0.0,\n",
      "   \"COMPL_END_TH\": 0.0,\n",
      "   \"PRODUCT_SIZE\": 248\n",
      "  },\n",
      "  \"LEFT\": {\n",
      "   \"PENALTY\": 9.027129166714644,\n",
      "   \"SEQUENCE\": \"TCATGTAATTAGTTATGTCACGCTTAC\",\n",
      "   \"location\": [\n",
      "    0,\n",
      "    27\n",
      "   ],\n",
      "   \"TM\": 57.972870833285356,\n",
      "   \"GC_PERCENT\": 33.333333333333336,\n",
      "   \"SELF_ANY_TH\": 0.0,\n",
      "   \"SELF_END_TH\": 0.0,\n",
      "   \"HAIRPIN_TH\": 0.0,\n",
      "   \"END_STABILITY\": 2.34\n",
      "  },\n",
      "  \"RIGHT\": {\n",
      "   \"PENALTY\": 2.1771725409080886,\n",
      "   \"SEQUENCE\": \"GCAAATTAAAGCCTTCGAGCG\",\n",
      "   \"location\": [\n",
      "    247,\n",
      "    21\n",
      "   ],\n",
      "   \"TM\": 58.82282745909191,\n",
      "   \"GC_PERCENT\": 47.61904761904762,\n",
      "   \"SELF_ANY_TH\": 0.0,\n",
      "   \"SELF_END_TH\": 0.0,\n",
      "   \"HAIRPIN_TH\": 38.006257959698985,\n",
      "   \"END_STABILITY\": 5.03\n",
      "  }\n",
      " }\n",
      "}\n",
      "{\n",
      " \"PRIMER_LEFT_EXPLAIN\": \"considered 10, low tm 9, ok 1\",\n",
      " \"PRIMER_RIGHT_EXPLAIN\": \"considered 10, low tm 3, high tm 4, ok 3\",\n",
      " \"PRIMER_PAIR_EXPLAIN\": \"considered 1, ok 1\",\n",
      " \"PRIMER_LEFT_NUM_RETURNED\": 1,\n",
      " \"PRIMER_RIGHT_NUM_RETURNED\": 1,\n",
      " \"PRIMER_INTERNAL_NUM_RETURNED\": 0,\n",
      " \"PRIMER_PAIR_NUM_RETURNED\": 1\n",
      "}\n"
     ]
    }
   ],
   "source": [
    "import json\n",
    "\n",
    "design = Design()\n",
    "design.set.template('TCATGTAATTAGTTATGTCACGCTTACATTCACGCCCTCCCCCCACATCCGCTCTAACCGAAAAGGAAGGAGTTAGACAACCTGAAGTCTAGGTCCCTATTTATTTTTTTATAGTTATGTTAGTATTAAGAACGTTATTTATATTTCAAATTTTTCTTTTTTTTCTGTACAGACGCGTGTACGCATGTAACATTATACTGAAAACCTTGCTTGAGAAGGTTTTGGGACGCTCGAAGGCTTTAATTTGC')\n",
    "design.set.as_cloning_task()\n",
    "design.set.\n",
    "results, explain = design.run()\n",
    "\n",
    "print(json.dumps(results, indent=1))\n",
    "print(json.dumps(explain, indent=1))"
   ]
  },
  {
   "cell_type": "code",
   "execution_count": 38,
   "metadata": {},
   "outputs": [
    {
     "data": {
      "text/plain": [
       "{'SEQUENCE_ID': <Parameter SEQUENCE_ID <class 'str'> value= default=>,\n",
       " 'SEQUENCE_TEMPLATE': <Parameter SEQUENCE_TEMPLATE <class 'str'> value=TCATGTAATTAGTTATGTCACGCTTACATTCACGCCCTCCCCCCACATCCGCTCTAACCGAAAAGGAAGGAGTTAGACAACCTGAAGTCTAGGTCCCTATTTATTTTTTTATAGTTATGTTAGTATTAAGAACGTTATTTATATTTCAAATTTTTCTTTTTTTTCTGTACAGACGCGTGTACGCATGTAACATTATACTGAAAACCTTGCTTGAGAAGGTTTTGGGACGCTCGAAGGCTTTAATTTGC default=>,\n",
       " 'SEQUENCE_INCLUDED_REGION': <Parameter SEQUENCE_INCLUDED_REGION <class 'list'> value=[] default=[]>,\n",
       " 'SEQUENCE_TARGET': <Parameter SEQUENCE_TARGET <class 'list'> value=[(50, 150)] default=[]>,\n",
       " 'SEQUENCE_EXCLUDED_REGION': <Parameter SEQUENCE_EXCLUDED_REGION <class 'list'> value=[] default=[]>,\n",
       " 'SEQUENCE_PRIMER_PAIR_OK_REGION_LIST': <Parameter SEQUENCE_PRIMER_PAIR_OK_REGION_LIST <class 'list'> value=[] default=[]>,\n",
       " 'SEQUENCE_OVERLAP_JUNCTION_LIST': <Parameter SEQUENCE_OVERLAP_JUNCTION_LIST <class 'list'> value=[] default=[]>,\n",
       " 'SEQUENCE_INTERNAL_EXCLUDED_REGION': <Parameter SEQUENCE_INTERNAL_EXCLUDED_REGION <class 'list'> value=[] default=[]>,\n",
       " 'SEQUENCE_PRIMER': <Parameter SEQUENCE_PRIMER <class 'str'> value=TCATGTAATTAGTTATGTCACGCTTACAT default=>,\n",
       " 'SEQUENCE_INTERNAL_OLIGO': <Parameter SEQUENCE_INTERNAL_OLIGO <class 'str'> value= default=>,\n",
       " 'SEQUENCE_PRIMER_REVCOMP': <Parameter SEQUENCE_PRIMER_REVCOMP <class 'str'> value= default=>,\n",
       " 'SEQUENCE_START_CODON_POSITION': <Parameter SEQUENCE_START_CODON_POSITION <class 'int'> value=-2000000 default=-2000000>,\n",
       " 'SEQUENCE_QUALITY': <Parameter SEQUENCE_QUALITY <class 'list'> value=[] default=[]>,\n",
       " 'SEQUENCE_FORCE_LEFT_START': <Parameter SEQUENCE_FORCE_LEFT_START <class 'int'> value=-1000000 default=-1000000>,\n",
       " 'SEQUENCE_FORCE_LEFT_END': <Parameter SEQUENCE_FORCE_LEFT_END <class 'int'> value=-1000000 default=-1000000>,\n",
       " 'SEQUENCE_FORCE_RIGHT_START': <Parameter SEQUENCE_FORCE_RIGHT_START <class 'int'> value=-1000000 default=-1000000>,\n",
       " 'SEQUENCE_FORCE_RIGHT_END': <Parameter SEQUENCE_FORCE_RIGHT_END <class 'int'> value=-1000000 default=-1000000>,\n",
       " 'PRIMER_TASK': <Parameter PRIMER_TASK <class 'str'> value=pick_cloning_primers default=generic>,\n",
       " 'PRIMER_PICK_LEFT_PRIMER': <Parameter PRIMER_PICK_LEFT_PRIMER <class 'bool'> value=True default=True>,\n",
       " 'PRIMER_PICK_INTERNAL_OLIGO': <Parameter PRIMER_PICK_INTERNAL_OLIGO <class 'bool'> value=False default=False>,\n",
       " 'PRIMER_PICK_RIGHT_PRIMER': <Parameter PRIMER_PICK_RIGHT_PRIMER <class 'bool'> value=True default=True>,\n",
       " 'PRIMER_NUM_RETURN': <Parameter PRIMER_NUM_RETURN <class 'int'> value=5 default=5>,\n",
       " 'PRIMER_MIN_3_PRIME_OVERLAP_OF_JUNCTION': <Parameter PRIMER_MIN_3_PRIME_OVERLAP_OF_JUNCTION <class 'int'> value=4 default=4>,\n",
       " 'PRIMER_MIN_5_PRIME_OVERLAP_OF_JUNCTION': <Parameter PRIMER_MIN_5_PRIME_OVERLAP_OF_JUNCTION <class 'int'> value=7 default=7>,\n",
       " 'PRIMER_MUST_MATCH_FIVE_PRIME': <Parameter PRIMER_MUST_MATCH_FIVE_PRIME <class 'str'> value= default=>,\n",
       " 'PRIMER_INTERNAL_MUST_MATCH_FIVE_PRIME': <Parameter PRIMER_INTERNAL_MUST_MATCH_FIVE_PRIME <class 'str'> value= default=>,\n",
       " 'PRIMER_MUST_MATCH_THREE_PRIME': <Parameter PRIMER_MUST_MATCH_THREE_PRIME <class 'str'> value= default=>,\n",
       " 'PRIMER_INTERNAL_MUST_MATCH_THREE_PRIME': <Parameter PRIMER_INTERNAL_MUST_MATCH_THREE_PRIME <class 'str'> value= default=>,\n",
       " 'PRIMER_PRODUCT_SIZE_RANGE': <Parameter PRIMER_PRODUCT_SIZE_RANGE <class 'list'> value=[100, 300] default=[100, 300]>,\n",
       " 'PRIMER_PRODUCT_OPT_SIZE': <Parameter PRIMER_PRODUCT_OPT_SIZE <class 'int'> value=0 default=0>,\n",
       " 'PRIMER_PAIR_WT_PRODUCT_SIZE_LT': <Parameter PRIMER_PAIR_WT_PRODUCT_SIZE_LT <class 'float'> value=0.0 default=0.0>,\n",
       " 'PRIMER_PAIR_WT_PRODUCT_SIZE_GT': <Parameter PRIMER_PAIR_WT_PRODUCT_SIZE_GT <class 'float'> value=0.0 default=0.0>,\n",
       " 'PRIMER_MIN_SIZE': <Parameter PRIMER_MIN_SIZE <class 'int'> value=16 default=18>,\n",
       " 'PRIMER_INTERNAL_MIN_SIZE': <Parameter PRIMER_INTERNAL_MIN_SIZE <class 'int'> value=18 default=18>,\n",
       " 'PRIMER_OPT_SIZE': <Parameter PRIMER_OPT_SIZE <class 'int'> value=20 default=20>,\n",
       " 'PRIMER_INTERNAL_OPT_SIZE': <Parameter PRIMER_INTERNAL_OPT_SIZE <class 'int'> value=20 default=20>,\n",
       " 'PRIMER_MAX_SIZE': <Parameter PRIMER_MAX_SIZE <class 'int'> value=36 default=27>,\n",
       " 'PRIMER_INTERNAL_MAX_SIZE': <Parameter PRIMER_INTERNAL_MAX_SIZE <class 'int'> value=27 default=27>,\n",
       " 'PRIMER_WT_SIZE_LT': <Parameter PRIMER_WT_SIZE_LT <class 'float'> value=1.0 default=1.0>,\n",
       " 'PRIMER_INTERNAL_WT_SIZE_LT': <Parameter PRIMER_INTERNAL_WT_SIZE_LT <class 'float'> value=1.0 default=1.0>,\n",
       " 'PRIMER_WT_SIZE_GT': <Parameter PRIMER_WT_SIZE_GT <class 'float'> value=1.0 default=1.0>,\n",
       " 'PRIMER_INTERNAL_WT_SIZE_GT': <Parameter PRIMER_INTERNAL_WT_SIZE_GT <class 'float'> value=1.0 default=1.0>,\n",
       " 'PRIMER_MIN_GC': <Parameter PRIMER_MIN_GC <class 'float'> value=20.0 default=20.0>,\n",
       " 'PRIMER_INTERNAL_MIN_GC': <Parameter PRIMER_INTERNAL_MIN_GC <class 'float'> value=20.0 default=20.0>,\n",
       " 'PRIMER_OPT_GC_PERCENT': <Parameter PRIMER_OPT_GC_PERCENT <class 'float'> value=50.0 default=50.0>,\n",
       " 'PRIMER_INTERNAL_OPT_GC_PERCENT': <Parameter PRIMER_INTERNAL_OPT_GC_PERCENT <class 'float'> value=50.0 default=50.0>,\n",
       " 'PRIMER_MAX_GC': <Parameter PRIMER_MAX_GC <class 'float'> value=80.0 default=80.0>,\n",
       " 'PRIMER_INTERNAL_MAX_GC': <Parameter PRIMER_INTERNAL_MAX_GC <class 'float'> value=80.0 default=80.0>,\n",
       " 'PRIMER_WT_GC_PERCENT_LT': <Parameter PRIMER_WT_GC_PERCENT_LT <class 'float'> value=0.0 default=0.0>,\n",
       " 'PRIMER_INTERNAL_WT_GC_PERCENT_LT': <Parameter PRIMER_INTERNAL_WT_GC_PERCENT_LT <class 'float'> value=0.0 default=0.0>,\n",
       " 'PRIMER_WT_GC_PERCENT_GT': <Parameter PRIMER_WT_GC_PERCENT_GT <class 'float'> value=0.0 default=0.0>,\n",
       " 'PRIMER_INTERNAL_WT_GC_PERCENT_GT': <Parameter PRIMER_INTERNAL_WT_GC_PERCENT_GT <class 'float'> value=0.0 default=0.0>,\n",
       " 'PRIMER_GC_CLAMP': <Parameter PRIMER_GC_CLAMP <class 'int'> value=0 default=0>,\n",
       " 'PRIMER_MAX_END_GC': <Parameter PRIMER_MAX_END_GC <class 'int'> value=5 default=5>,\n",
       " 'PRIMER_MIN_TM': <Parameter PRIMER_MIN_TM <class 'float'> value=48.0 default=57.0>,\n",
       " 'PRIMER_INTERNAL_MIN_TM': <Parameter PRIMER_INTERNAL_MIN_TM <class 'float'> value=57.0 default=57.0>,\n",
       " 'PRIMER_OPT_TM': <Parameter PRIMER_OPT_TM <class 'float'> value=60.0 default=60.0>,\n",
       " 'PRIMER_INTERNAL_OPT_TM': <Parameter PRIMER_INTERNAL_OPT_TM <class 'float'> value=60.0 default=60.0>,\n",
       " 'PRIMER_MAX_TM': <Parameter PRIMER_MAX_TM <class 'float'> value=80.0 default=63.0>,\n",
       " 'PRIMER_INTERNAL_MAX_TM': <Parameter PRIMER_INTERNAL_MAX_TM <class 'float'> value=63.0 default=63.0>,\n",
       " 'PRIMER_PAIR_MAX_DIFF_TM': <Parameter PRIMER_PAIR_MAX_DIFF_TM <class 'float'> value=100.0 default=100.0>,\n",
       " 'PRIMER_WT_TM_LT': <Parameter PRIMER_WT_TM_LT <class 'float'> value=1.0 default=1.0>,\n",
       " 'PRIMER_INTERNAL_WT_TM_LT': <Parameter PRIMER_INTERNAL_WT_TM_LT <class 'float'> value=1.0 default=1.0>,\n",
       " 'PRIMER_WT_TM_GT': <Parameter PRIMER_WT_TM_GT <class 'float'> value=1.0 default=1.0>,\n",
       " 'PRIMER_INTERNAL_WT_TM_GT': <Parameter PRIMER_INTERNAL_WT_TM_GT <class 'float'> value=1.0 default=1.0>,\n",
       " 'PRIMER_PAIR_WT_DIFF_TM': <Parameter PRIMER_PAIR_WT_DIFF_TM <class 'float'> value=0.0 default=0.0>,\n",
       " 'PRIMER_PRODUCT_MIN_TM': <Parameter PRIMER_PRODUCT_MIN_TM <class 'float'> value=-1000000.0 default=-1000000.0>,\n",
       " 'PRIMER_PRODUCT_OPT_TM': <Parameter PRIMER_PRODUCT_OPT_TM <class 'float'> value=0.0 default=0.0>,\n",
       " 'PRIMER_PRODUCT_MAX_TM': <Parameter PRIMER_PRODUCT_MAX_TM <class 'float'> value=1000000.0 default=1000000.0>,\n",
       " 'PRIMER_PAIR_WT_PRODUCT_TM_LT': <Parameter PRIMER_PAIR_WT_PRODUCT_TM_LT <class 'float'> value=0.0 default=0.0>,\n",
       " 'PRIMER_PAIR_WT_PRODUCT_TM_GT': <Parameter PRIMER_PAIR_WT_PRODUCT_TM_GT <class 'float'> value=0.0 default=0.0>,\n",
       " 'PRIMER_TM_FORMULA': <Parameter PRIMER_TM_FORMULA <class 'int'> value=1 default=1>,\n",
       " 'PRIMER_SALT_MONOVALENT': <Parameter PRIMER_SALT_MONOVALENT <class 'float'> value=50.0 default=50.0>,\n",
       " 'PRIMER_INTERNAL_SALT_MONOVALENT': <Parameter PRIMER_INTERNAL_SALT_MONOVALENT <class 'float'> value=50.0 default=50.0>,\n",
       " 'PRIMER_SALT_DIVALENT': <Parameter PRIMER_SALT_DIVALENT <class 'float'> value=1.5 default=1.5>,\n",
       " 'PRIMER_INTERNAL_SALT_DIVALENT': <Parameter PRIMER_INTERNAL_SALT_DIVALENT <class 'float'> value=0.0 default=0.0>,\n",
       " 'PRIMER_DNTP_CONC': <Parameter PRIMER_DNTP_CONC <class 'float'> value=0.6 default=0.6>,\n",
       " 'PRIMER_INTERNAL_DNTP_CONC': <Parameter PRIMER_INTERNAL_DNTP_CONC <class 'float'> value=0.0 default=0.0>,\n",
       " 'PRIMER_SALT_CORRECTIONS': <Parameter PRIMER_SALT_CORRECTIONS <class 'int'> value=1 default=1>,\n",
       " 'PRIMER_DNA_CONC': <Parameter PRIMER_DNA_CONC <class 'float'> value=50.0 default=50.0>,\n",
       " 'PRIMER_INTERNAL_DNA_CONC': <Parameter PRIMER_INTERNAL_DNA_CONC <class 'float'> value=50.0 default=50.0>,\n",
       " 'PRIMER_THERMODYNAMIC_OLIGO_ALIGNMENT': <Parameter PRIMER_THERMODYNAMIC_OLIGO_ALIGNMENT <class 'bool'> value=True default=True>,\n",
       " 'PRIMER_THERMODYNAMIC_TEMPLATE_ALIGNMENT': <Parameter PRIMER_THERMODYNAMIC_TEMPLATE_ALIGNMENT <class 'bool'> value=False default=False>,\n",
       " 'PRIMER_SECONDARY_STRUCTURE_ALIGNMENT': <Parameter PRIMER_SECONDARY_STRUCTURE_ALIGNMENT <class 'bool'> value=False default=False>,\n",
       " 'PRIMER_THERMODYNAMIC_PARAMETERS_PATH': <Parameter PRIMER_THERMODYNAMIC_PARAMETERS_PATH <class 'str'> value=./primer3_config default=./primer3_config>,\n",
       " 'PRIMER_MAX_SELF_ANY': <Parameter PRIMER_MAX_SELF_ANY <class 'float'> value=8.0 default=8.0>,\n",
       " 'PRIMER_MAX_SELF_ANY_TH': <Parameter PRIMER_MAX_SELF_ANY_TH <class 'float'> value=47.0 default=47.0>,\n",
       " 'PRIMER_INTERNAL_MAX_SELF_ANY': <Parameter PRIMER_INTERNAL_MAX_SELF_ANY <class 'float'> value=12.0 default=12.0>,\n",
       " 'PRIMER_INTERNAL_MAX_SELF_ANY_TH': <Parameter PRIMER_INTERNAL_MAX_SELF_ANY_TH <class 'float'> value=47.0 default=47.0>,\n",
       " 'PRIMER_PAIR_MAX_COMPL_ANY': <Parameter PRIMER_PAIR_MAX_COMPL_ANY <class 'float'> value=8.0 default=8.0>,\n",
       " 'PRIMER_PAIR_MAX_COMPL_ANY_TH': <Parameter PRIMER_PAIR_MAX_COMPL_ANY_TH <class 'float'> value=47.0 default=47.0>,\n",
       " 'PRIMER_WT_SELF_ANY': <Parameter PRIMER_WT_SELF_ANY <class 'float'> value=0.0 default=0.0>,\n",
       " 'PRIMER_WT_SELF_ANY_TH': <Parameter PRIMER_WT_SELF_ANY_TH <class 'float'> value=0.0 default=0.0>,\n",
       " 'PRIMER_INTERNAL_WT_SELF_ANY': <Parameter PRIMER_INTERNAL_WT_SELF_ANY <class 'float'> value=0.0 default=0.0>,\n",
       " 'PRIMER_INTERNAL_WT_SELF_ANY_TH': <Parameter PRIMER_INTERNAL_WT_SELF_ANY_TH <class 'float'> value=0.0 default=0.0>,\n",
       " 'PRIMER_PAIR_WT_COMPL_ANY': <Parameter PRIMER_PAIR_WT_COMPL_ANY <class 'float'> value=0.0 default=0.0>,\n",
       " 'PRIMER_PAIR_WT_COMPL_ANY_TH': <Parameter PRIMER_PAIR_WT_COMPL_ANY_TH <class 'float'> value=0.0 default=0.0>,\n",
       " 'PRIMER_MAX_SELF_END': <Parameter PRIMER_MAX_SELF_END <class 'float'> value=3.0 default=3.0>,\n",
       " 'PRIMER_MAX_SELF_END_TH': <Parameter PRIMER_MAX_SELF_END_TH <class 'float'> value=47.0 default=47.0>,\n",
       " 'PRIMER_INTERNAL_MAX_SELF_END': <Parameter PRIMER_INTERNAL_MAX_SELF_END <class 'float'> value=12.0 default=12.0>,\n",
       " 'PRIMER_INTERNAL_MAX_SELF_END_TH': <Parameter PRIMER_INTERNAL_MAX_SELF_END_TH <class 'float'> value=47.0 default=47.0>,\n",
       " 'PRIMER_PAIR_MAX_COMPL_END': <Parameter PRIMER_PAIR_MAX_COMPL_END <class 'float'> value=3.0 default=3.0>,\n",
       " 'PRIMER_PAIR_MAX_COMPL_END_TH': <Parameter PRIMER_PAIR_MAX_COMPL_END_TH <class 'float'> value=47.0 default=47.0>,\n",
       " 'PRIMER_WT_SELF_END': <Parameter PRIMER_WT_SELF_END <class 'float'> value=0.0 default=0.0>,\n",
       " 'PRIMER_WT_SELF_END_TH': <Parameter PRIMER_WT_SELF_END_TH <class 'float'> value=0.0 default=0.0>,\n",
       " 'PRIMER_INTERNAL_WT_SELF_END': <Parameter PRIMER_INTERNAL_WT_SELF_END <class 'float'> value=0.0 default=0.0>,\n",
       " 'PRIMER_INTERNAL_WT_SELF_END_TH': <Parameter PRIMER_INTERNAL_WT_SELF_END_TH <class 'float'> value=0.0 default=0.0>,\n",
       " 'PRIMER_PAIR_WT_COMPL_END': <Parameter PRIMER_PAIR_WT_COMPL_END <class 'float'> value=0.0 default=0.0>,\n",
       " 'PRIMER_PAIR_WT_COMPL_END_TH': <Parameter PRIMER_PAIR_WT_COMPL_END_TH <class 'float'> value=0.0 default=0.0>,\n",
       " 'PRIMER_MAX_HAIRPIN_TH': <Parameter PRIMER_MAX_HAIRPIN_TH <class 'float'> value=60.0 default=47.0>,\n",
       " 'PRIMER_INTERNAL_MAX_HAIRPIN_TH': <Parameter PRIMER_INTERNAL_MAX_HAIRPIN_TH <class 'float'> value=47.0 default=47.0>,\n",
       " 'PRIMER_WT_HAIRPIN_TH': <Parameter PRIMER_WT_HAIRPIN_TH <class 'float'> value=0.0 default=0.0>,\n",
       " 'PRIMER_INTERNAL_WT_HAIRPIN_TH': <Parameter PRIMER_INTERNAL_WT_HAIRPIN_TH <class 'float'> value=0.0 default=0.0>,\n",
       " 'PRIMER_MAX_END_STABILITY': <Parameter PRIMER_MAX_END_STABILITY <class 'float'> value=100.0 default=100.0>,\n",
       " 'PRIMER_WT_END_STABILITY': <Parameter PRIMER_WT_END_STABILITY <class 'float'> value=0.0 default=0.0>,\n",
       " 'PRIMER_MAX_NS_ACCEPTED': <Parameter PRIMER_MAX_NS_ACCEPTED <class 'int'> value=0 default=0>,\n",
       " 'PRIMER_INTERNAL_MAX_NS_ACCEPTED': <Parameter PRIMER_INTERNAL_MAX_NS_ACCEPTED <class 'int'> value=0 default=0>,\n",
       " 'PRIMER_WT_NUM_NS': <Parameter PRIMER_WT_NUM_NS <class 'float'> value=0.0 default=0.0>,\n",
       " 'PRIMER_INTERNAL_WT_NUM_NS': <Parameter PRIMER_INTERNAL_WT_NUM_NS <class 'float'> value=0.0 default=0.0>,\n",
       " 'PRIMER_MAX_POLY_X': <Parameter PRIMER_MAX_POLY_X <class 'int'> value=5 default=5>,\n",
       " 'PRIMER_INTERNAL_MAX_POLY_X': <Parameter PRIMER_INTERNAL_MAX_POLY_X <class 'int'> value=5 default=5>,\n",
       " 'PRIMER_MIN_LEFT_THREE_PRIME_DISTANCE': <Parameter PRIMER_MIN_LEFT_THREE_PRIME_DISTANCE <class 'int'> value=-1 default=-1>,\n",
       " 'PRIMER_MIN_RIGHT_THREE_PRIME_DISTANCE': <Parameter PRIMER_MIN_RIGHT_THREE_PRIME_DISTANCE <class 'int'> value=-1 default=-1>,\n",
       " 'PRIMER_MIN_THREE_PRIME_DISTANCE': <Parameter PRIMER_MIN_THREE_PRIME_DISTANCE <class 'int'> value=-1 default=-1>,\n",
       " 'PRIMER_PICK_ANYWAY': <Parameter PRIMER_PICK_ANYWAY <class 'bool'> value=False default=False>,\n",
       " 'PRIMER_LOWERCASE_MASKING': <Parameter PRIMER_LOWERCASE_MASKING <class 'int'> value=0 default=0>,\n",
       " 'PRIMER_EXPLAIN_FLAG': <Parameter PRIMER_EXPLAIN_FLAG <class 'bool'> value=True default=False>,\n",
       " 'PRIMER_LIBERAL_BASE': <Parameter PRIMER_LIBERAL_BASE <class 'bool'> value=False default=False>,\n",
       " 'PRIMER_FIRST_BASE_INDEX': <Parameter PRIMER_FIRST_BASE_INDEX <class 'int'> value=0 default=0>,\n",
       " 'PRIMER_MAX_TEMPLATE_MISPRIMING': <Parameter PRIMER_MAX_TEMPLATE_MISPRIMING <class 'float'> value=-1.0 default=-1.0>,\n",
       " 'PRIMER_MAX_TEMPLATE_MISPRIMING_TH': <Parameter PRIMER_MAX_TEMPLATE_MISPRIMING_TH <class 'float'> value=-1.0 default=-1.0>,\n",
       " 'PRIMER_PAIR_MAX_TEMPLATE_MISPRIMING': <Parameter PRIMER_PAIR_MAX_TEMPLATE_MISPRIMING <class 'float'> value=-1.0 default=-1.0>,\n",
       " 'PRIMER_PAIR_MAX_TEMPLATE_MISPRIMING_TH': <Parameter PRIMER_PAIR_MAX_TEMPLATE_MISPRIMING_TH <class 'float'> value=-1.0 default=-1.0>,\n",
       " 'PRIMER_WT_TEMPLATE_MISPRIMING': <Parameter PRIMER_WT_TEMPLATE_MISPRIMING <class 'float'> value=0.0 default=0.0>,\n",
       " 'PRIMER_WT_TEMPLATE_MISPRIMING_TH': <Parameter PRIMER_WT_TEMPLATE_MISPRIMING_TH <class 'float'> value=0.0 default=0.0>,\n",
       " 'PRIMER_PAIR_WT_TEMPLATE_MISPRIMING': <Parameter PRIMER_PAIR_WT_TEMPLATE_MISPRIMING <class 'float'> value=0.0 default=0.0>,\n",
       " 'PRIMER_PAIR_WT_TEMPLATE_MISPRIMING_TH': <Parameter PRIMER_PAIR_WT_TEMPLATE_MISPRIMING_TH <class 'float'> value=0.0 default=0.0>,\n",
       " 'PRIMER_MISPRIMING_LIBRARY': <Parameter PRIMER_MISPRIMING_LIBRARY <class 'str'> value= default=>,\n",
       " 'PRIMER_INTERNAL_MISHYB_LIBRARY': <Parameter PRIMER_INTERNAL_MISHYB_LIBRARY <class 'str'> value= default=>,\n",
       " 'PRIMER_LIB_AMBIGUITY_CODES_CONSENSUS': <Parameter PRIMER_LIB_AMBIGUITY_CODES_CONSENSUS <class 'bool'> value=False default=False>,\n",
       " 'PRIMER_MAX_LIBRARY_MISPRIMING': <Parameter PRIMER_MAX_LIBRARY_MISPRIMING <class 'float'> value=12.0 default=12.0>,\n",
       " 'PRIMER_INTERNAL_MAX_LIBRARY_MISHYB': <Parameter PRIMER_INTERNAL_MAX_LIBRARY_MISHYB <class 'float'> value=12.0 default=12.0>,\n",
       " 'PRIMER_PAIR_MAX_LIBRARY_MISPRIMING': <Parameter PRIMER_PAIR_MAX_LIBRARY_MISPRIMING <class 'float'> value=24.0 default=24.0>,\n",
       " 'PRIMER_WT_LIBRARY_MISPRIMING': <Parameter PRIMER_WT_LIBRARY_MISPRIMING <class 'float'> value=0.0 default=0.0>,\n",
       " 'PRIMER_INTERNAL_WT_LIBRARY_MISHYB': <Parameter PRIMER_INTERNAL_WT_LIBRARY_MISHYB <class 'float'> value=0.0 default=0.0>,\n",
       " 'PRIMER_PAIR_WT_LIBRARY_MISPRIMING': <Parameter PRIMER_PAIR_WT_LIBRARY_MISPRIMING <class 'float'> value=0.0 default=0.0>,\n",
       " 'PRIMER_MASK_TEMPLATE': <Parameter PRIMER_MASK_TEMPLATE <class 'bool'> value=False default=False>,\n",
       " 'PRIMER_MASK_FAILURE_RATE': <Parameter PRIMER_MASK_FAILURE_RATE <class 'float'> value=0.1 default=0.1>,\n",
       " 'PRIMER_WT_MASK_FAILURE_RATE': <Parameter PRIMER_WT_MASK_FAILURE_RATE <class 'float'> value=0.0 default=0.0>,\n",
       " 'PRIMER_MASK_5P_DIRECTION': <Parameter PRIMER_MASK_5P_DIRECTION <class 'int'> value=1 default=1>,\n",
       " 'PRIMER_MASK_3P_DIRECTION': <Parameter PRIMER_MASK_3P_DIRECTION <class 'int'> value=0 default=0>,\n",
       " 'PRIMER_MASK_KMERLIST_PATH': <Parameter PRIMER_MASK_KMERLIST_PATH <class 'str'> value=../kmer_lists/ default=../kmer_lists/>,\n",
       " 'PRIMER_MASK_KMERLIST_PREFIX': <Parameter PRIMER_MASK_KMERLIST_PREFIX <class 'str'> value=homo_sapiens default=homo_sapiens>,\n",
       " 'PRIMER_MIN_QUALITY': <Parameter PRIMER_MIN_QUALITY <class 'int'> value=0 default=0>,\n",
       " 'PRIMER_INTERNAL_MIN_QUALITY': <Parameter PRIMER_INTERNAL_MIN_QUALITY <class 'int'> value=0 default=0>,\n",
       " 'PRIMER_MIN_END_QUALITY': <Parameter PRIMER_MIN_END_QUALITY <class 'int'> value=0 default=0>,\n",
       " 'PRIMER_QUALITY_RANGE_MIN': <Parameter PRIMER_QUALITY_RANGE_MIN <class 'int'> value=0 default=0>,\n",
       " 'PRIMER_QUALITY_RANGE_MAX': <Parameter PRIMER_QUALITY_RANGE_MAX <class 'int'> value=100 default=100>,\n",
       " 'PRIMER_WT_SEQ_QUAL': <Parameter PRIMER_WT_SEQ_QUAL <class 'float'> value=0.0 default=0.0>,\n",
       " 'PRIMER_INTERNAL_WT_SEQ_QUAL': <Parameter PRIMER_INTERNAL_WT_SEQ_QUAL <class 'float'> value=0.0 default=0.0>,\n",
       " 'PRIMER_PAIR_WT_PR_PENALTY': <Parameter PRIMER_PAIR_WT_PR_PENALTY <class 'float'> value=1.0 default=1.0>,\n",
       " 'PRIMER_PAIR_WT_IO_PENALTY': <Parameter PRIMER_PAIR_WT_IO_PENALTY <class 'float'> value=0.0 default=0.0>,\n",
       " 'PRIMER_INSIDE_PENALTY': <Parameter PRIMER_INSIDE_PENALTY <class 'float'> value=-1.0 default=-1.0>,\n",
       " 'PRIMER_OUTSIDE_PENALTY': <Parameter PRIMER_OUTSIDE_PENALTY <class 'float'> value=0.0 default=0.0>,\n",
       " 'PRIMER_WT_POS_PENALTY': <Parameter PRIMER_WT_POS_PENALTY <class 'float'> value=1.0 default=1.0>,\n",
       " 'PRIMER_SEQUENCING_LEAD': <Parameter PRIMER_SEQUENCING_LEAD <class 'int'> value=50 default=50>,\n",
       " 'PRIMER_SEQUENCING_SPACING': <Parameter PRIMER_SEQUENCING_SPACING <class 'int'> value=500 default=500>,\n",
       " 'PRIMER_SEQUENCING_INTERVAL': <Parameter PRIMER_SEQUENCING_INTERVAL <class 'int'> value=250 default=250>,\n",
       " 'PRIMER_SEQUENCING_ACCURACY': <Parameter PRIMER_SEQUENCING_ACCURACY <class 'int'> value=20 default=20>,\n",
       " 'PRIMER_WT_END_QUAL': <Parameter PRIMER_WT_END_QUAL <class 'float'> value=0.0 default=0.0>,\n",
       " 'PRIMER_INTERNAL_WT_END_QUAL': <Parameter PRIMER_INTERNAL_WT_END_QUAL <class 'float'> value=0.0 default=0.0>}"
      ]
     },
     "execution_count": 38,
     "metadata": {},
     "output_type": "execute_result"
    }
   ],
   "source": [
    "design.params.params"
   ]
  },
  {
   "cell_type": "code",
   "execution_count": 56,
   "metadata": {},
   "outputs": [
    {
     "data": {
      "text/plain": [
       "({0: {'PAIR': {'PENALTY': 0.25916175123336416,\n",
       "    'COMPL_ANY_TH': 0.0,\n",
       "    'COMPL_END_TH': 3.13761936746954,\n",
       "    'PRODUCT_SIZE': 167},\n",
       "   'LEFT': {'PENALTY': 0.09472971894786042,\n",
       "    'SEQUENCE': 'GTCACGCTTACATTCACGCC',\n",
       "    'location': (16, 20),\n",
       "    'TM': 59.90527028105214,\n",
       "    'GC_PERCENT': 55.0,\n",
       "    'SELF_ANY_TH': 0.0,\n",
       "    'SELF_END_TH': 0.0,\n",
       "    'HAIRPIN_TH': 0.0,\n",
       "    'END_STABILITY': 5.68},\n",
       "   'RIGHT': {'PENALTY': 0.16443203228550374,\n",
       "    'SEQUENCE': 'CGTACACGCGTCTGTACAGA',\n",
       "    'location': (182, 20),\n",
       "    'TM': 59.835567967714496,\n",
       "    'GC_PERCENT': 55.0,\n",
       "    'SELF_ANY_TH': 28.519193026770097,\n",
       "    'SELF_END_TH': 21.73724210298616,\n",
       "    'HAIRPIN_TH': 44.67540604717584,\n",
       "    'END_STABILITY': 3.41}}},\n",
       " {'PRIMER_LEFT_EXPLAIN': 'considered 222, low tm 110, high tm 47, long poly-x seq 7, ok 58',\n",
       "  'PRIMER_RIGHT_EXPLAIN': 'considered 687, GC content failed 3, low tm 252, high tm 165, high hairpin stability 2, long poly-x seq 9, ok 256',\n",
       "  'PRIMER_PAIR_EXPLAIN': 'considered 1, ok 1',\n",
       "  'PRIMER_LEFT_NUM_RETURNED': 1,\n",
       "  'PRIMER_RIGHT_NUM_RETURNED': 1,\n",
       "  'PRIMER_INTERNAL_NUM_RETURNED': 0,\n",
       "  'PRIMER_PAIR_NUM_RETURNED': 1})"
      ]
     },
     "execution_count": 56,
     "metadata": {},
     "output_type": "execute_result"
    }
   ],
   "source": [
    "design.set.target([(50, 100)])\n",
    "design.set.as_generic_task()\n",
    "design.run()"
   ]
  },
  {
   "cell_type": "code",
   "execution_count": 57,
   "metadata": {},
   "outputs": [
    {
     "data": {
      "text/plain": [
       "\u001b[0;31mSignature:\u001b[0m \u001b[0mdesign\u001b[0m\u001b[0;34m.\u001b[0m\u001b[0mset\u001b[0m\u001b[0;34m.\u001b[0m\u001b[0mtarget\u001b[0m\u001b[0;34m(\u001b[0m\u001b[0minterval\u001b[0m\u001b[0;34m:\u001b[0m \u001b[0mtuple\u001b[0m\u001b[0;34m)\u001b[0m\u001b[0;34m\u001b[0m\u001b[0;34m\u001b[0m\u001b[0m\n",
       "\u001b[0;31mDocstring:\u001b[0m\n",
       "If one or more targets is specified then a legal primer pair must flank at least one of them. A target might\n",
       "be a simple sequence repeat site (for example a CA repeat) or a single-base-pair polymorphism, or an exon for\n",
       "resequencing. The value should be a space-separated list of\n",
       "\n",
       "<start>,<length>\n",
       "pairs where <start> is the index of the first base of a target, and <length> is its length.\n",
       "\n",
       "See also PRIMER_INSIDE_PENALTY, PRIMER_OUTSIDE_PENALTY. Has a different meaning when\n",
       "PRIMER_TASK=pick_sequencing_primers. See PRIMER_TASK for more information.\n",
       "\n",
       ":param interval:\n",
       ":type interval:\n",
       ":return:\n",
       ":rtype:\n",
       "\u001b[0;31mFile:\u001b[0m      ~/Documents/GitHub/primer3-py-plus/primer3plus/design/__init__.py\n",
       "\u001b[0;31mType:\u001b[0m      method\n"
      ]
     },
     "metadata": {},
     "output_type": "display_data"
    }
   ],
   "source": [
    "design.set.target?"
   ]
  },
  {
   "cell_type": "code",
   "execution_count": null,
   "metadata": {},
   "outputs": [],
   "source": []
  }
 ],
 "metadata": {
  "kernelspec": {
   "display_name": "Python 3",
   "language": "python",
   "name": "python3"
  },
  "language_info": {
   "codemirror_mode": {
    "name": "ipython",
    "version": 3
   },
   "file_extension": ".py",
   "mimetype": "text/x-python",
   "name": "python",
   "nbconvert_exporter": "python",
   "pygments_lexer": "ipython3",
   "version": "3.7.3"
  }
 },
 "nbformat": 4,
 "nbformat_minor": 2
}
