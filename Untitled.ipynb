{
 "cells": [
  {
   "cell_type": "code",
   "execution_count": 2,
   "metadata": {},
   "outputs": [],
   "source": [
    "from primer3plus import Design"
   ]
  },
  {
   "cell_type": "code",
   "execution_count": 4,
   "metadata": {},
   "outputs": [
    {
     "data": {
      "text/plain": [
       "({},\n",
       " {'PRIMER_WARNING': 'SEQUENCE_INCLUDED_REGION length < min PRIMER_PRODUCT_SIZE_RANGE',\n",
       "  'PRIMER_LEFT_EXPLAIN': 'considered 1, low tm 1, ok 0',\n",
       "  'PRIMER_RIGHT_EXPLAIN': 'considered 1, low tm 1, ok 0',\n",
       "  'PRIMER_PAIR_EXPLAIN': 'considered 0, ok 0',\n",
       "  'PRIMER_LEFT_NUM_RETURNED': 0,\n",
       "  'PRIMER_RIGHT_NUM_RETURNED': 0,\n",
       "  'PRIMER_INTERNAL_NUM_RETURNED': 0,\n",
       "  'PRIMER_PAIR_NUM_RETURNED': 0})"
      ]
     },
     "execution_count": 4,
     "metadata": {},
     "output_type": "execute_result"
    }
   ],
   "source": [
    "import primer3\n",
    "\n",
    "design = Design()\n",
    "design.presets.left_sequence('ATTAGTTATGTCACGCTTACATT')\n",
    "design.presets.right_sequence('ATTAGTTATGTCACGCTTACATT')\n",
    "design.PRIMER_MASK_KMERLIST_PATH = 'asdfasdfadsfa'\n",
    "design.PRIMER_TASK = 'check_primers'\n",
    "design.run()"
   ]
  },
  {
   "cell_type": "code",
   "execution_count": 3,
   "metadata": {},
   "outputs": [],
   "source": [
    "design.PRIMER_TASK = \"check_primers\""
   ]
  },
  {
   "cell_type": "code",
   "execution_count": 32,
   "metadata": {},
   "outputs": [
    {
     "name": "stdout",
     "output_type": "stream",
     "text": [
      "LEFT\n",
      "TCATGTAATTAGTTATGTCACGCTTAC\n",
      "TCATGTAATTAGTTATGTCACGCTTAC\n",
      "\n",
      "RIGHT\n",
      "GCAAATTAAAGCCTTCGAGCG\n",
      "GCAAATTAAAGCCTTCGAGCG\n"
     ]
    }
   ],
   "source": [
    "from primer3plus import Design\n",
    "import json\n",
    "\n",
    "design = Design()\n",
    "design.presets.template('TCATGTAATTAGTTATGTCACGCTTACATTCACGCCCTCCCCCCACATCCGCTCTAACCGAAAAGGAAGGAGTTAGACAACCTGAAGTCTAGGTCCCTATTTATTTTTTTATAGTTATGTTAGTATTAAGAACGTTATTTATATTTCAAATTTTTCTTTTTTTTCTGTACAGACGCGTGTACGCATGTAACATTATACTGAAAACCTTGCTTGAGAAGGTTTTGGGACGCTCGAAGGCTTTAATTTGC')\n",
    "design.presets.as_cloning_task()\n",
    "design.presets.primer_num_return(1)\n",
    "results, explain = design.run()\n",
    "result = results[0]\n",
    "\n",
    "lloc = result['LEFT']['location']\n",
    "lseq = result['LEFT']['SEQUENCE']\n",
    "rloc = result['RIGHT']['location']\n",
    "rseq = result['RIGHT']['SEQUENCE']\n",
    "\n",
    "print('LEFT')\n",
    "print(lseq)\n",
    "print(design.SEQUENCE_TEMPLATE.value[lloc[0]:lloc[0]+lloc[1]])\n",
    "print()\n",
    "print('RIGHT')\n",
    "print(rseq)\n",
    "print(rc(design.SEQUENCE_TEMPLATE.value[rloc[0]+1-rloc[1]:rloc[0]+1]))"
   ]
  },
  {
   "cell_type": "code",
   "execution_count": 34,
   "metadata": {},
   "outputs": [
    {
     "name": "stdout",
     "output_type": "stream",
     "text": [
      "{'SEQUENCE_ID': '', 'SEQUENCE_TEMPLATE': 'TCATGTAATTAGTTATGTCACGCTTACATTCACGCCCTCCCCCCACATCCGCTCTAACCGAAAAGGAAGGAGTTAGACAACCTGAAGTCTAGGTCCCTATTTATTTTTTTATAGTTATGTTAGTATTAAGAACGTTATTTATATTTCAAATTTTTCTTTTTTTTCTGTACAGACGCGTGTACGCATGTAACATTATACTGAAAACCTTGCTTGAGAAGGTTTTGGGACGCTCGAAGGCTTTAATTTGC', 'SEQUENCE_INCLUDED_REGION': [], 'SEQUENCE_TARGET': [], 'SEQUENCE_EXCLUDED_REGION': [], 'SEQUENCE_PRIMER_PAIR_OK_REGION_LIST': [], 'SEQUENCE_OVERLAP_JUNCTION_LIST': [], 'SEQUENCE_INTERNAL_EXCLUDED_REGION': [], 'SEQUENCE_PRIMER': '', 'SEQUENCE_INTERNAL_OLIGO': '', 'SEQUENCE_PRIMER_REVCOMP': '', 'SEQUENCE_START_CODON_POSITION': -2000000, 'SEQUENCE_QUALITY': [], 'SEQUENCE_FORCE_LEFT_START': -1000000, 'SEQUENCE_FORCE_LEFT_END': -1000000, 'SEQUENCE_FORCE_RIGHT_START': -1000000, 'SEQUENCE_FORCE_RIGHT_END': -1000000, 'PRIMER_TASK': 'pick_cloning_primers', 'PRIMER_PICK_LEFT_PRIMER': True, 'PRIMER_PICK_INTERNAL_OLIGO': False, 'PRIMER_PICK_RIGHT_PRIMER': True, 'PRIMER_NUM_RETURN': 1, 'PRIMER_MIN_3_PRIME_OVERLAP_OF_JUNCTION': 4, 'PRIMER_MIN_5_PRIME_OVERLAP_OF_JUNCTION': 7, 'PRIMER_MUST_MATCH_FIVE_PRIME': '', 'PRIMER_INTERNAL_MUST_MATCH_FIVE_PRIME': '', 'PRIMER_MUST_MATCH_THREE_PRIME': '', 'PRIMER_INTERNAL_MUST_MATCH_THREE_PRIME': '', 'PRIMER_PRODUCT_SIZE_RANGE': [100, 300], 'PRIMER_PRODUCT_OPT_SIZE': 0, 'PRIMER_PAIR_WT_PRODUCT_SIZE_LT': 0.0, 'PRIMER_PAIR_WT_PRODUCT_SIZE_GT': 0.0, 'PRIMER_MIN_SIZE': 18, 'PRIMER_INTERNAL_MIN_SIZE': 18, 'PRIMER_OPT_SIZE': 20, 'PRIMER_INTERNAL_OPT_SIZE': 20, 'PRIMER_MAX_SIZE': 27, 'PRIMER_INTERNAL_MAX_SIZE': 27, 'PRIMER_WT_SIZE_LT': 1.0, 'PRIMER_INTERNAL_WT_SIZE_LT': 1.0, 'PRIMER_WT_SIZE_GT': 1.0, 'PRIMER_INTERNAL_WT_SIZE_GT': 1.0, 'PRIMER_MIN_GC': 20.0, 'PRIMER_INTERNAL_MIN_GC': 20.0, 'PRIMER_OPT_GC_PERCENT': 50.0, 'PRIMER_INTERNAL_OPT_GC_PERCENT': 50.0, 'PRIMER_MAX_GC': 80.0, 'PRIMER_INTERNAL_MAX_GC': 80.0, 'PRIMER_WT_GC_PERCENT_LT': 0.0, 'PRIMER_INTERNAL_WT_GC_PERCENT_LT': 0.0, 'PRIMER_WT_GC_PERCENT_GT': 0.0, 'PRIMER_INTERNAL_WT_GC_PERCENT_GT': 0.0, 'PRIMER_GC_CLAMP': 0, 'PRIMER_MAX_END_GC': 5, 'PRIMER_MIN_TM': 57.0, 'PRIMER_INTERNAL_MIN_TM': 57.0, 'PRIMER_OPT_TM': 60.0, 'PRIMER_INTERNAL_OPT_TM': 60.0, 'PRIMER_MAX_TM': 63.0, 'PRIMER_INTERNAL_MAX_TM': 63.0, 'PRIMER_PAIR_MAX_DIFF_TM': 100.0, 'PRIMER_WT_TM_LT': 1.0, 'PRIMER_INTERNAL_WT_TM_LT': 1.0, 'PRIMER_WT_TM_GT': 1.0, 'PRIMER_INTERNAL_WT_TM_GT': 1.0, 'PRIMER_PAIR_WT_DIFF_TM': 0.0, 'PRIMER_PRODUCT_MIN_TM': -1000000.0, 'PRIMER_PRODUCT_OPT_TM': 0.0, 'PRIMER_PRODUCT_MAX_TM': 1000000.0, 'PRIMER_PAIR_WT_PRODUCT_TM_LT': 0.0, 'PRIMER_PAIR_WT_PRODUCT_TM_GT': 0.0, 'PRIMER_TM_FORMULA': 1, 'PRIMER_SALT_MONOVALENT': 50.0, 'PRIMER_INTERNAL_SALT_MONOVALENT': 50.0, 'PRIMER_SALT_DIVALENT': 1.5, 'PRIMER_INTERNAL_SALT_DIVALENT': 0.0, 'PRIMER_DNTP_CONC': 0.6, 'PRIMER_INTERNAL_DNTP_CONC': 0.0, 'PRIMER_SALT_CORRECTIONS': 1, 'PRIMER_DNA_CONC': 50.0, 'PRIMER_INTERNAL_DNA_CONC': 50.0, 'PRIMER_THERMODYNAMIC_OLIGO_ALIGNMENT': True, 'PRIMER_THERMODYNAMIC_TEMPLATE_ALIGNMENT': False, 'PRIMER_SECONDARY_STRUCTURE_ALIGNMENT': False, 'PRIMER_THERMODYNAMIC_PARAMETERS_PATH': './primer3_config', 'PRIMER_MAX_SELF_ANY': 8.0, 'PRIMER_MAX_SELF_ANY_TH': 47.0, 'PRIMER_INTERNAL_MAX_SELF_ANY': 12.0, 'PRIMER_INTERNAL_MAX_SELF_ANY_TH': 47.0, 'PRIMER_PAIR_MAX_COMPL_ANY': 8.0, 'PRIMER_PAIR_MAX_COMPL_ANY_TH': 47.0, 'PRIMER_WT_SELF_ANY': 0.0, 'PRIMER_WT_SELF_ANY_TH': 0.0, 'PRIMER_INTERNAL_WT_SELF_ANY': 0.0, 'PRIMER_INTERNAL_WT_SELF_ANY_TH': 0.0, 'PRIMER_PAIR_WT_COMPL_ANY': 0.0, 'PRIMER_PAIR_WT_COMPL_ANY_TH': 0.0, 'PRIMER_MAX_SELF_END': 3.0, 'PRIMER_MAX_SELF_END_TH': 47.0, 'PRIMER_INTERNAL_MAX_SELF_END': 12.0, 'PRIMER_INTERNAL_MAX_SELF_END_TH': 47.0, 'PRIMER_PAIR_MAX_COMPL_END': 3.0, 'PRIMER_PAIR_MAX_COMPL_END_TH': 47.0, 'PRIMER_WT_SELF_END': 0.0, 'PRIMER_WT_SELF_END_TH': 0.0, 'PRIMER_INTERNAL_WT_SELF_END': 0.0, 'PRIMER_INTERNAL_WT_SELF_END_TH': 0.0, 'PRIMER_PAIR_WT_COMPL_END': 0.0, 'PRIMER_PAIR_WT_COMPL_END_TH': 0.0, 'PRIMER_MAX_HAIRPIN_TH': 47.0, 'PRIMER_INTERNAL_MAX_HAIRPIN_TH': 47.0, 'PRIMER_WT_HAIRPIN_TH': 0.0, 'PRIMER_INTERNAL_WT_HAIRPIN_TH': 0.0, 'PRIMER_MAX_END_STABILITY': 100.0, 'PRIMER_WT_END_STABILITY': 0.0, 'PRIMER_MAX_NS_ACCEPTED': 0, 'PRIMER_INTERNAL_MAX_NS_ACCEPTED': 0, 'PRIMER_WT_NUM_NS': 0.0, 'PRIMER_INTERNAL_WT_NUM_NS': 0.0, 'PRIMER_MAX_POLY_X': 5, 'PRIMER_INTERNAL_MAX_POLY_X': 5, 'PRIMER_MIN_LEFT_THREE_PRIME_DISTANCE': -1, 'PRIMER_MIN_RIGHT_THREE_PRIME_DISTANCE': -1, 'PRIMER_MIN_THREE_PRIME_DISTANCE': -1, 'PRIMER_PICK_ANYWAY': False, 'PRIMER_LOWERCASE_MASKING': 0, 'PRIMER_EXPLAIN_FLAG': True, 'PRIMER_LIBERAL_BASE': False, 'PRIMER_FIRST_BASE_INDEX': 0, 'PRIMER_MAX_TEMPLATE_MISPRIMING': -1.0, 'PRIMER_MAX_TEMPLATE_MISPRIMING_TH': -1.0, 'PRIMER_PAIR_MAX_TEMPLATE_MISPRIMING': -1.0, 'PRIMER_PAIR_MAX_TEMPLATE_MISPRIMING_TH': -1.0, 'PRIMER_WT_TEMPLATE_MISPRIMING': 0.0, 'PRIMER_WT_TEMPLATE_MISPRIMING_TH': 0.0, 'PRIMER_PAIR_WT_TEMPLATE_MISPRIMING': 0.0, 'PRIMER_PAIR_WT_TEMPLATE_MISPRIMING_TH': 0.0, 'PRIMER_MISPRIMING_LIBRARY': '', 'PRIMER_INTERNAL_MISHYB_LIBRARY': '', 'PRIMER_LIB_AMBIGUITY_CODES_CONSENSUS': False, 'PRIMER_MAX_LIBRARY_MISPRIMING': 12.0, 'PRIMER_INTERNAL_MAX_LIBRARY_MISHYB': 12.0, 'PRIMER_PAIR_MAX_LIBRARY_MISPRIMING': 24.0, 'PRIMER_WT_LIBRARY_MISPRIMING': 0.0, 'PRIMER_INTERNAL_WT_LIBRARY_MISHYB': 0.0, 'PRIMER_PAIR_WT_LIBRARY_MISPRIMING': 0.0, 'PRIMER_MASK_TEMPLATE': False, 'PRIMER_MASK_FAILURE_RATE': 0.1, 'PRIMER_WT_MASK_FAILURE_RATE': 0.0, 'PRIMER_MASK_5P_DIRECTION': 1, 'PRIMER_MASK_3P_DIRECTION': 0, 'PRIMER_MASK_KMERLIST_PATH': '../kmer_lists/', 'PRIMER_MASK_KMERLIST_PREFIX': 'homo_sapiens', 'PRIMER_MIN_QUALITY': 0, 'PRIMER_INTERNAL_MIN_QUALITY': 0, 'PRIMER_MIN_END_QUALITY': 0, 'PRIMER_QUALITY_RANGE_MIN': 0, 'PRIMER_QUALITY_RANGE_MAX': 100, 'PRIMER_WT_SEQ_QUAL': 0.0, 'PRIMER_INTERNAL_WT_SEQ_QUAL': 0.0, 'PRIMER_PAIR_WT_PR_PENALTY': 1.0, 'PRIMER_PAIR_WT_IO_PENALTY': 0.0, 'PRIMER_INSIDE_PENALTY': -1.0, 'PRIMER_OUTSIDE_PENALTY': 0.0, 'PRIMER_WT_POS_PENALTY': 1.0, 'PRIMER_SEQUENCING_LEAD': 50, 'PRIMER_SEQUENCING_SPACING': 500, 'PRIMER_SEQUENCING_INTERVAL': 250, 'PRIMER_SEQUENCING_ACCURACY': 20, 'PRIMER_WT_END_QUAL': 0.0, 'PRIMER_INTERNAL_WT_END_QUAL': 0.0}\n"
     ]
    }
   ],
   "source": [
    "print(dict(design.params))\n"
   ]
  },
  {
   "cell_type": "code",
   "execution_count": 11,
   "metadata": {},
   "outputs": [],
   "source": [
    "rcdict = dict(zip('agctAGCT', 'tcgaTCGA'))\n",
    "\n",
    "\n",
    "def rc(s):\n",
    "    return ''.join(rcdict[x] for x in s[::-1])\n",
    "\n",
    "\n",
    "def bindpos(primer, template, seed=):\n",
    "    "
   ]
  },
  {
   "cell_type": "code",
   "execution_count": 5,
   "metadata": {},
   "outputs": [
    {
     "name": "stdout",
     "output_type": "stream",
     "text": [
      "34.4749056163559\n",
      "-0.45495385726820814\n",
      "0.0\n",
      "0.0\n",
      "-3.1270075533978456\n"
     ]
    }
   ],
   "source": [
    "import primer3\n",
    "\n",
    "def check_primers(p1, p2):\n",
    "    hair1 = primer3.calcHairpinTm(p1)\n",
    "    homo1 = primer3.calcHomodimerTm(p1)\n",
    "    hair2 = primer3.calcHairpinTm(p2)\n",
    "    homo2 = primer3.calcHairpinTm(p2)\n",
    "    hetero = primer3.calcHeterodimerTm(p1, p2)\n",
    "    print(hair1)\n",
    "    print(homo1)\n",
    "    print(hair2)\n",
    "    print(homo2)\n",
    "    print(hetero)\n",
    "    \n",
    "check_primers('ATTAGTTATGTCACGCTTACATT', 'GGATGAGATAGATAGCGATATA')"
   ]
  },
  {
   "cell_type": "code",
   "execution_count": 9,
   "metadata": {},
   "outputs": [
    {
     "data": {
      "text/plain": [
       "ThermoResult(structure_found=True, tm=34.47, dg=256.92, dh=-31300.00, ds=-101.75)"
      ]
     },
     "execution_count": 9,
     "metadata": {},
     "output_type": "execute_result"
    }
   ],
   "source": [
    "primer3.calcHairpin('ATTAGTTATGTCACGCTTACATT')"
   ]
  },
  {
   "cell_type": "code",
   "execution_count": 10,
   "metadata": {},
   "outputs": [
    {
     "data": {
      "text/plain": [
       "<function primer3.bindings.calcHeterodimer(seq1, seq2, mv_conc=50, dv_conc=0, dntp_conc=0.8, dna_conc=50, temp_c=37, max_loop=30, output_structure=False)>"
      ]
     },
     "execution_count": 10,
     "metadata": {},
     "output_type": "execute_result"
    }
   ],
   "source": [
    "primer3.calcHeterodimer"
   ]
  },
  {
   "cell_type": "code",
   "execution_count": 11,
   "metadata": {},
   "outputs": [
    {
     "data": {
      "text/plain": [
       "ThermoResult(structure_found=True, tm=-0.45, dg=-1106.65, dh=-73600.00, ds=-233.74)"
      ]
     },
     "execution_count": 11,
     "metadata": {},
     "output_type": "execute_result"
    }
   ],
   "source": [
    "primer3.calcHomodimer('ATTAGTTATGTCACGCTTACATT')"
   ]
  },
  {
   "cell_type": "code",
   "execution_count": 56,
   "metadata": {},
   "outputs": [
    {
     "name": "stdout",
     "output_type": "stream",
     "text": [
      "Gradient used:  {'PRIMER_MAX_SIZE': (1, 27, 36), 'PRIMER_MIN_SIZE': (-1, 16, 27), 'PRIMER_MAX_TM': (1, 27, 80), 'PRIMER_MIN_TM': (-1, 48, 57.0), 'PRIMER_MAX_HAIRPIN_TH': (1, 47.0, 60)}\n",
      "Results:  {\n",
      " \"0\": {\n",
      "  \"PAIR\": {\n",
      "   \"PENALTY\": 7.892226720976964,\n",
      "   \"COMPL_ANY_TH\": 0.0,\n",
      "   \"COMPL_END_TH\": 0.0,\n",
      "   \"PRODUCT_SIZE\": 235\n",
      "  },\n",
      "  \"LEFT\": {\n",
      "   \"PENALTY\": 7.713186819997588,\n",
      "   \"SEQUENCE\": \"TCATGTAATTAGTTATGTCACGCT\",\n",
      "   \"location\": [\n",
      "    0,\n",
      "    24\n",
      "   ],\n",
      "   \"TM\": 56.28681318000241,\n",
      "   \"GC_PERCENT\": 33.333333333333336,\n",
      "   \"SELF_ANY_TH\": 0.0,\n",
      "   \"SELF_END_TH\": 0.0,\n",
      "   \"HAIRPIN_TH\": 0.0,\n",
      "   \"END_STABILITY\": 5.07\n",
      "  },\n",
      "  \"RIGHT\": {\n",
      "   \"PENALTY\": 0.17903990097937594,\n",
      "   \"SEQUENCE\": \"TTCGAGCGTCCCAAAACCTT\",\n",
      "   \"location\": [\n",
      "    234,\n",
      "    20\n",
      "   ],\n",
      "   \"TM\": 60.179039900979376,\n",
      "   \"GC_PERCENT\": 50.0,\n",
      "   \"SELF_ANY_TH\": 0.0,\n",
      "   \"SELF_END_TH\": 0.0,\n",
      "   \"HAIRPIN_TH\": 0.0,\n",
      "   \"END_STABILITY\": 3.5\n",
      "  }\n",
      " }\n",
      "}\n",
      "Explain:  {\n",
      " \"PRIMER_LEFT_EXPLAIN\": \"considered 45, low tm 43, ok 2\",\n",
      " \"PRIMER_RIGHT_EXPLAIN\": \"considered 618, GC content failed 1, low tm 250, high tm 99, ok 268\",\n",
      " \"PRIMER_PAIR_EXPLAIN\": \"considered 1, ok 1\",\n",
      " \"PRIMER_LEFT_NUM_RETURNED\": 1,\n",
      " \"PRIMER_RIGHT_NUM_RETURNED\": 1,\n",
      " \"PRIMER_INTERNAL_NUM_RETURNED\": 0,\n",
      " \"PRIMER_PAIR_NUM_RETURNED\": 1\n",
      "}\n"
     ]
    }
   ],
   "source": [
    "from primer3plus import Design\n",
    "import json\n",
    "\n",
    "def foo():\n",
    "    design = Design()\n",
    "    design.presets.template(\"TCATGTAATTAGTTATGTCACGCTTACATTCACGCCCTCCCCCCACATCCGCTCTAACCGAAAAGGAAGGAGTTAGACAACCTGAAGTCTAGGTCCCTATTTATTTTTTTATAGTTATGTTAGTATTAAGAACGTTATTTATATTTCAAATTTTTCTTTTTTTTCTGTACAGACGCGTGTACGCATGTAACATTATACTGAAAACCTTGCTTGAGAAGGTTTTGGGACGCTCGAAGGCTTTAATTTGC\")\n",
    "    design.presets.target((25, 150))\n",
    "    design.presets.primer_num_return(1)\n",
    "    res, explain = design.run_and_optimize(5)\n",
    "    print(\"Gradient used: \", design.DEFAULT_GRADIENT)\n",
    "    print(\"Results: \", json.dumps(res, indent=1))\n",
    "    print(\"Explain: \", json.dumps(explain, indent=1))\n",
    "\n",
    "foo()"
   ]
  },
  {
   "cell_type": "code",
   "execution_count": 50,
   "metadata": {},
   "outputs": [
    {
     "data": {
      "text/plain": [
       "{'PRIMER_MAX_SIZE': (1, 27, 36),\n",
       " 'PRIMER_MIN_SIZE': (-1, 16, 27),\n",
       " 'PRIMER_MAX_TM': (1, 27, 80),\n",
       " 'PRIMER_MIN_TM': (-1, 48, 57.0),\n",
       " 'PRIMER_MAX_HAIRPIN_TH': (1, 47.0, 60)}"
      ]
     },
     "execution_count": 50,
     "metadata": {},
     "output_type": "execute_result"
    }
   ],
   "source": [
    "design.DEFAULT_GRADIENT"
   ]
  },
  {
   "cell_type": "code",
   "execution_count": 41,
   "metadata": {},
   "outputs": [
    {
     "name": "stdout",
     "output_type": "stream",
     "text": [
      "Object `boulderio.setdefault` not found.\n"
     ]
    }
   ],
   "source": [
    "import pandas as pd\n",
    "\n",
    "boulderio.setdefault?"
   ]
  },
  {
   "cell_type": "code",
   "execution_count": 36,
   "metadata": {},
   "outputs": [
    {
     "name": "stdout",
     "output_type": "stream",
     "text": [
      "<Parameter SEQUENCE_ID <class 'str'> value= default=>\n"
     ]
    }
   ],
   "source": [
    "print(design.get('SEQUENCE_ID'))"
   ]
  },
  {
   "cell_type": "code",
   "execution_count": 7,
   "metadata": {},
   "outputs": [],
   "source": [
    "s = design.presets.\n"
   ]
  },
  {
   "cell_type": "code",
   "execution_count": 8,
   "metadata": {},
   "outputs": [
    {
     "data": {
      "text/plain": [
       "<bound method DesignPresets.template of <primer3plus.design.DesignPresets object at 0x1099d3438>>"
      ]
     },
     "execution_count": 8,
     "metadata": {},
     "output_type": "execute_result"
    }
   ],
   "source": [
    "design.set."
   ]
  },
  {
   "cell_type": "code",
   "execution_count": 4,
   "metadata": {},
   "outputs": [],
   "source": [
    "import json\n",
    "\n",
    "design = Design()\n",
    "design.set.template('TCATGTAATTAGTTATGTCACGCTTACATTCACGCCCTCCCCCCACATCCGCTCTAACCGAAAAGGAAGGAGTTAGACAACCTGAAGTCTAGGTCCCTATTTATTTTTTTATAGTTATGTTAGTATTAAGAACGTTATTTATATTTCAAATTTTTCTTTTTTTTCTGTACAGACGCGTGTACGCATGTAACATTATACTGAAAACCTTGCTTGAGAAGGTTTTGGGACGCTCGAAGGCTTTAATTTGC')\n",
    "design.set.as_cloning_task()\n",
    "results, explain = design.run()"
   ]
  },
  {
   "cell_type": "code",
   "execution_count": 18,
   "metadata": {},
   "outputs": [
    {
     "data": {
      "text/plain": [
       "'pick_cloning_primers'"
      ]
     },
     "execution_count": 18,
     "metadata": {},
     "output_type": "execute_result"
    }
   ],
   "source": [
    "design.params['PRIMER_TASK']"
   ]
  },
  {
   "cell_type": "code",
   "execution_count": 56,
   "metadata": {},
   "outputs": [
    {
     "data": {
      "text/plain": [
       "({0: {'PAIR': {'PENALTY': 0.25916175123336416,\n",
       "    'COMPL_ANY_TH': 0.0,\n",
       "    'COMPL_END_TH': 3.13761936746954,\n",
       "    'PRODUCT_SIZE': 167},\n",
       "   'LEFT': {'PENALTY': 0.09472971894786042,\n",
       "    'SEQUENCE': 'GTCACGCTTACATTCACGCC',\n",
       "    'location': (16, 20),\n",
       "    'TM': 59.90527028105214,\n",
       "    'GC_PERCENT': 55.0,\n",
       "    'SELF_ANY_TH': 0.0,\n",
       "    'SELF_END_TH': 0.0,\n",
       "    'HAIRPIN_TH': 0.0,\n",
       "    'END_STABILITY': 5.68},\n",
       "   'RIGHT': {'PENALTY': 0.16443203228550374,\n",
       "    'SEQUENCE': 'CGTACACGCGTCTGTACAGA',\n",
       "    'location': (182, 20),\n",
       "    'TM': 59.835567967714496,\n",
       "    'GC_PERCENT': 55.0,\n",
       "    'SELF_ANY_TH': 28.519193026770097,\n",
       "    'SELF_END_TH': 21.73724210298616,\n",
       "    'HAIRPIN_TH': 44.67540604717584,\n",
       "    'END_STABILITY': 3.41}}},\n",
       " {'PRIMER_LEFT_EXPLAIN': 'considered 222, low tm 110, high tm 47, long poly-x seq 7, ok 58',\n",
       "  'PRIMER_RIGHT_EXPLAIN': 'considered 687, GC content failed 3, low tm 252, high tm 165, high hairpin stability 2, long poly-x seq 9, ok 256',\n",
       "  'PRIMER_PAIR_EXPLAIN': 'considered 1, ok 1',\n",
       "  'PRIMER_LEFT_NUM_RETURNED': 1,\n",
       "  'PRIMER_RIGHT_NUM_RETURNED': 1,\n",
       "  'PRIMER_INTERNAL_NUM_RETURNED': 0,\n",
       "  'PRIMER_PAIR_NUM_RETURNED': 1})"
      ]
     },
     "execution_count": 56,
     "metadata": {},
     "output_type": "execute_result"
    }
   ],
   "source": [
    "design.set.target([(50, 100)])\n",
    "design.set.as_generic_task()\n",
    "design.run()"
   ]
  },
  {
   "cell_type": "code",
   "execution_count": 57,
   "metadata": {},
   "outputs": [
    {
     "data": {
      "text/plain": [
       "\u001b[0;31mSignature:\u001b[0m \u001b[0mdesign\u001b[0m\u001b[0;34m.\u001b[0m\u001b[0mset\u001b[0m\u001b[0;34m.\u001b[0m\u001b[0mtarget\u001b[0m\u001b[0;34m(\u001b[0m\u001b[0minterval\u001b[0m\u001b[0;34m:\u001b[0m \u001b[0mtuple\u001b[0m\u001b[0;34m)\u001b[0m\u001b[0;34m\u001b[0m\u001b[0;34m\u001b[0m\u001b[0m\n",
       "\u001b[0;31mDocstring:\u001b[0m\n",
       "If one or more targets is specified then a legal primer pair must flank at least one of them. A target might\n",
       "be a simple sequence repeat site (for example a CA repeat) or a single-base-pair polymorphism, or an exon for\n",
       "resequencing. The value should be a space-separated list of\n",
       "\n",
       "<start>,<length>\n",
       "pairs where <start> is the index of the first base of a target, and <length> is its length.\n",
       "\n",
       "See also PRIMER_INSIDE_PENALTY, PRIMER_OUTSIDE_PENALTY. Has a different meaning when\n",
       "PRIMER_TASK=pick_sequencing_primers. See PRIMER_TASK for more information.\n",
       "\n",
       ":param interval:\n",
       ":type interval:\n",
       ":return:\n",
       ":rtype:\n",
       "\u001b[0;31mFile:\u001b[0m      ~/Documents/GitHub/primer3-py-plus/primer3plus/design/__init__.py\n",
       "\u001b[0;31mType:\u001b[0m      method\n"
      ]
     },
     "metadata": {},
     "output_type": "display_data"
    }
   ],
   "source": [
    "design.set.target?"
   ]
  },
  {
   "cell_type": "code",
   "execution_count": null,
   "metadata": {},
   "outputs": [],
   "source": []
  }
 ],
 "metadata": {
  "kernelspec": {
   "display_name": "Python 3",
   "language": "python",
   "name": "python3"
  },
  "language_info": {
   "codemirror_mode": {
    "name": "ipython",
    "version": 3
   },
   "file_extension": ".py",
   "mimetype": "text/x-python",
   "name": "python",
   "nbconvert_exporter": "python",
   "pygments_lexer": "ipython3",
   "version": "3.7.3"
  }
 },
 "nbformat": 4,
 "nbformat_minor": 2
}
