{
 "cells": [
  {
   "cell_type": "code",
   "execution_count": 1,
   "metadata": {},
   "outputs": [],
   "source": [
    "from primer3plus import Design"
   ]
  },
  {
   "cell_type": "code",
   "execution_count": 4,
   "metadata": {},
   "outputs": [],
   "source": [
    "import json\n",
    "\n",
    "design = Design()\n",
    "design.set.template('TCATGTAATTAGTTATGTCACGCTTACATTCACGCCCTCCCCCCACATCCGCTCTAACCGAAAAGGAAGGAGTTAGACAACCTGAAGTCTAGGTCCCTATTTATTTTTTTATAGTTATGTTAGTATTAAGAACGTTATTTATATTTCAAATTTTTCTTTTTTTTCTGTACAGACGCGTGTACGCATGTAACATTATACTGAAAACCTTGCTTGAGAAGGTTTTGGGACGCTCGAAGGCTTTAATTTGC')\n",
    "design.set.as_cloning_task()\n",
    "results, explain = design.run()"
   ]
  },
  {
   "cell_type": "code",
   "execution_count": 5,
   "metadata": {},
   "outputs": [],
   "source": [
    "design.open_help()"
   ]
  },
  {
   "cell_type": "code",
   "execution_count": 56,
   "metadata": {},
   "outputs": [
    {
     "data": {
      "text/plain": [
       "({0: {'PAIR': {'PENALTY': 0.25916175123336416,\n",
       "    'COMPL_ANY_TH': 0.0,\n",
       "    'COMPL_END_TH': 3.13761936746954,\n",
       "    'PRODUCT_SIZE': 167},\n",
       "   'LEFT': {'PENALTY': 0.09472971894786042,\n",
       "    'SEQUENCE': 'GTCACGCTTACATTCACGCC',\n",
       "    'location': (16, 20),\n",
       "    'TM': 59.90527028105214,\n",
       "    'GC_PERCENT': 55.0,\n",
       "    'SELF_ANY_TH': 0.0,\n",
       "    'SELF_END_TH': 0.0,\n",
       "    'HAIRPIN_TH': 0.0,\n",
       "    'END_STABILITY': 5.68},\n",
       "   'RIGHT': {'PENALTY': 0.16443203228550374,\n",
       "    'SEQUENCE': 'CGTACACGCGTCTGTACAGA',\n",
       "    'location': (182, 20),\n",
       "    'TM': 59.835567967714496,\n",
       "    'GC_PERCENT': 55.0,\n",
       "    'SELF_ANY_TH': 28.519193026770097,\n",
       "    'SELF_END_TH': 21.73724210298616,\n",
       "    'HAIRPIN_TH': 44.67540604717584,\n",
       "    'END_STABILITY': 3.41}}},\n",
       " {'PRIMER_LEFT_EXPLAIN': 'considered 222, low tm 110, high tm 47, long poly-x seq 7, ok 58',\n",
       "  'PRIMER_RIGHT_EXPLAIN': 'considered 687, GC content failed 3, low tm 252, high tm 165, high hairpin stability 2, long poly-x seq 9, ok 256',\n",
       "  'PRIMER_PAIR_EXPLAIN': 'considered 1, ok 1',\n",
       "  'PRIMER_LEFT_NUM_RETURNED': 1,\n",
       "  'PRIMER_RIGHT_NUM_RETURNED': 1,\n",
       "  'PRIMER_INTERNAL_NUM_RETURNED': 0,\n",
       "  'PRIMER_PAIR_NUM_RETURNED': 1})"
      ]
     },
     "execution_count": 56,
     "metadata": {},
     "output_type": "execute_result"
    }
   ],
   "source": [
    "design.set.target([(50, 100)])\n",
    "design.set.as_generic_task()\n",
    "design.run()"
   ]
  },
  {
   "cell_type": "code",
   "execution_count": 57,
   "metadata": {},
   "outputs": [
    {
     "data": {
      "text/plain": [
       "\u001b[0;31mSignature:\u001b[0m \u001b[0mdesign\u001b[0m\u001b[0;34m.\u001b[0m\u001b[0mset\u001b[0m\u001b[0;34m.\u001b[0m\u001b[0mtarget\u001b[0m\u001b[0;34m(\u001b[0m\u001b[0minterval\u001b[0m\u001b[0;34m:\u001b[0m \u001b[0mtuple\u001b[0m\u001b[0;34m)\u001b[0m\u001b[0;34m\u001b[0m\u001b[0;34m\u001b[0m\u001b[0m\n",
       "\u001b[0;31mDocstring:\u001b[0m\n",
       "If one or more targets is specified then a legal primer pair must flank at least one of them. A target might\n",
       "be a simple sequence repeat site (for example a CA repeat) or a single-base-pair polymorphism, or an exon for\n",
       "resequencing. The value should be a space-separated list of\n",
       "\n",
       "<start>,<length>\n",
       "pairs where <start> is the index of the first base of a target, and <length> is its length.\n",
       "\n",
       "See also PRIMER_INSIDE_PENALTY, PRIMER_OUTSIDE_PENALTY. Has a different meaning when\n",
       "PRIMER_TASK=pick_sequencing_primers. See PRIMER_TASK for more information.\n",
       "\n",
       ":param interval:\n",
       ":type interval:\n",
       ":return:\n",
       ":rtype:\n",
       "\u001b[0;31mFile:\u001b[0m      ~/Documents/GitHub/primer3-py-plus/primer3plus/design/__init__.py\n",
       "\u001b[0;31mType:\u001b[0m      method\n"
      ]
     },
     "metadata": {},
     "output_type": "display_data"
    }
   ],
   "source": [
    "design.set.target?"
   ]
  },
  {
   "cell_type": "code",
   "execution_count": null,
   "metadata": {},
   "outputs": [],
   "source": []
  }
 ],
 "metadata": {
  "kernelspec": {
   "display_name": "Python 3",
   "language": "python",
   "name": "python3"
  },
  "language_info": {
   "codemirror_mode": {
    "name": "ipython",
    "version": 3
   },
   "file_extension": ".py",
   "mimetype": "text/x-python",
   "name": "python",
   "nbconvert_exporter": "python",
   "pygments_lexer": "ipython3",
   "version": "3.7.3"
  }
 },
 "nbformat": 4,
 "nbformat_minor": 2
}
